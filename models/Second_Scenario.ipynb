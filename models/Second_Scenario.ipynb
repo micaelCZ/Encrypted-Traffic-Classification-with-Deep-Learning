{
  "nbformat": 4,
  "nbformat_minor": 0,
  "metadata": {
    "colab": {
      "provenance": []
    },
    "kernelspec": {
      "name": "python3",
      "display_name": "Python 3"
    },
    "language_info": {
      "name": "python"
    }
  },
  "cells": [
    {
      "cell_type": "markdown",
      "source": [
        "# **Second Scenario: Encrypted-Traffic-Classification-with-Deep-Learning.**"
      ],
      "metadata": {
        "id": "h2wZPfKSvpsV"
      }
    },
    {
      "cell_type": "markdown",
      "source": [
        "# **SVM SCENARIO B**\n",
        "Fecha: 21/05/2023"
      ],
      "metadata": {
        "id": "a-S2UhErwUF9"
      }
    },
    {
      "cell_type": "code",
      "source": [
        "#Library\n",
        "import pandas as pd\n",
        "import numpy as np\n",
        "from sklearn.model_selection import train_test_split\n",
        "from sklearn.impute import SimpleImputer\n",
        "from sklearn.preprocessing import StandardScaler\n",
        "from sklearn.svm import SVC\n",
        "from sklearn.metrics import precision_recall_fscore_support\n",
        "from sklearn.model_selection import cross_validate"
      ],
      "metadata": {
        "id": "4mpmk6x8wd3U"
      },
      "execution_count": 30,
      "outputs": []
    },
    {
      "cell_type": "code",
      "source": [
        "# Upload data\n",
        "url = 'https://raw.githubusercontent.com/micaelCZ/Encrypted-Traffic-Classification-with-Deep-Learning/main/dataset/pre_processedDataset/Scenario2.csv'\n",
        "df = pd.read_csv(url, low_memory=False)\n",
        "y = df['label']\n",
        "label_map = {'AUDIO': 0, 'BROWSING': 1, 'CHAT': 2, 'FILE-TRANSFER': 3, 'MAIL': 4, 'P2P': 5, 'VIDEO': 6, 'VOIP': 7}\n",
        "change_labels = lambda x: label_map[x] if x in label_map else -1\n",
        "y = df['label'].apply(change_labels)\n",
        "X = df.iloc[:, 4:-1]"
      ],
      "metadata": {
        "id": "SVURtJrdwd6k"
      },
      "execution_count": 31,
      "outputs": []
    },
    {
      "cell_type": "code",
      "source": [
        "#Normalize\n",
        "def dfNormalize(df):\n",
        "    for feature_name in df.columns:\n",
        "        df.loc[:, feature_name] = pd.to_numeric(df.loc[:, feature_name], errors='coerce').fillna(0)\n",
        "        max_value = df[feature_name].max()\n",
        "        min_value = df[feature_name].min()   \n",
        "        if (max_value - min_value) > 0:\n",
        "            df.loc[:, feature_name] = (df.loc[:, feature_name] - min_value) / (max_value - min_value)\n",
        "        else:\n",
        "            df.loc[:, feature_name] = (df.loc[:, feature_name] - min_value)    \n",
        "    return df\n",
        "\n",
        "X = dfNormalize(X)\n",
        "X_train, X_test, y_train, y_test = train_test_split(X, y, test_size=0.2, random_state=42, stratify=y)\n",
        "\n",
        "imputer = SimpleImputer(strategy='median')\n",
        "X_train_imputed = imputer.fit_transform(X_train)\n",
        "X_test_imputed = imputer.transform(X_test)\n",
        "\n",
        "scaler = StandardScaler()\n",
        "X_train_scaled = scaler.fit_transform(X_train_imputed)\n",
        "X_test_scaled = scaler.transform(X_test_imputed)"
      ],
      "metadata": {
        "id": "APcRJ7aewd92"
      },
      "execution_count": 32,
      "outputs": []
    },
    {
      "cell_type": "code",
      "source": [
        "# Training an SVM model using sklearn's SVC with One-vs-One (OvO)\n",
        "\n",
        "ovo_svm_linear = SVC(kernel='linear', C=0.1, random_state=42, decision_function_shape='ovo')\n",
        "ovo_scores_linear = cross_validate(ovo_svm_linear, X_train_scaled, y_train, cv=5, scoring=['accuracy', 'precision_micro', 'recall_micro', 'f1_micro'])\n",
        "\n",
        "ovo_svm_poly = SVC(kernel='poly', degree=3, C=0.1, random_state=42, decision_function_shape='ovo')\n",
        "ovo_scores_poly = cross_validate(ovo_svm_poly, X_train_scaled, y_train, cv=5, scoring=['accuracy', 'precision_micro', 'recall_micro', 'f1_micro'])\n",
        "\n",
        "ovo_svm_rbf = SVC(kernel='rbf', C=0.1, random_state=42, decision_function_shape='ovo')\n",
        "ovo_scores_rbf = cross_validate(ovo_svm_rbf, X_train_scaled, y_train, cv=5, scoring=['accuracy', 'precision_micro', 'recall_micro', 'f1_micro'])\n",
        "\n",
        "ovo_svm_sigmoid = SVC(kernel='sigmoid', C=0.1, random_state=42, decision_function_shape='ovo')\n",
        "ovo_scores_sigmoid = cross_validate(ovo_svm_sigmoid, X_train_scaled, y_train, cv=5, scoring=['accuracy', 'precision_micro', 'recall_micro', 'f1_micro'])\n",
        "\n"
      ],
      "metadata": {
        "id": "C0HNFT98weAd"
      },
      "execution_count": 33,
      "outputs": []
    },
    {
      "cell_type": "markdown",
      "source": [
        "# Scenario B KERNEL=LINEAR"
      ],
      "metadata": {
        "id": "x9ZnYrNZwpYk"
      }
    },
    {
      "cell_type": "code",
      "source": [
        "# Print cross validation results with OvO - Kernel Linear\n",
        "\n",
        "print('Resultados de validación cruzada con One-vs-One (OvO) - kernel linear:')\n",
        "print('Accuracy: {:.2f}%'.format(ovo_scores_linear['test_accuracy'].mean() * 100))\n",
        "print('Precision: {:.2f}%'.format(ovo_scores_linear['test_precision_micro'].mean() * 100))\n",
        "print('Recall: {:.2f}%'.format(ovo_scores_linear['test_recall_micro'].mean() * 100))\n",
        "print('F1-score: {:.2f}%'.format(ovo_scores_linear['test_f1_micro'].mean() * 100))"
      ],
      "metadata": {
        "colab": {
          "base_uri": "https://localhost:8080/"
        },
        "id": "wMFSO82LweDM",
        "outputId": "a97dd8ab-4cf5-449e-ee92-864b91c7106c"
      },
      "execution_count": 34,
      "outputs": [
        {
          "output_type": "stream",
          "name": "stdout",
          "text": [
            "Resultados de validación cruzada con One-vs-One (OvO) - kernel linear:\n",
            "Accuracy: 59.07%\n",
            "Precision: 59.07%\n",
            "Recall: 59.07%\n",
            "F1-score: 59.07%\n"
          ]
        }
      ]
    },
    {
      "cell_type": "markdown",
      "source": [
        "# Scenario B KERNEL=POLY"
      ],
      "metadata": {
        "id": "dFl9gDgrwvUN"
      }
    },
    {
      "cell_type": "code",
      "source": [
        "# Print cross validation results with OvO - Kernel Poly\n",
        "\n",
        "print('Resultados de validación cruzada con One-vs-One (OvO) - kernel poly:')\n",
        "print('Accuracy: {:.2f}%'.format(ovo_scores_poly['test_accuracy'].mean() * 100))\n",
        "print('Precision: {:.2f}%'.format(ovo_scores_poly['test_precision_micro'].mean() * 100))\n",
        "print('Recall: {:.2f}%'.format(ovo_scores_poly['test_recall_micro'].mean() * 100))\n",
        "print('F1-score: {:.2f}%'.format(ovo_scores_poly['test_f1_micro'].mean() * 100))"
      ],
      "metadata": {
        "colab": {
          "base_uri": "https://localhost:8080/"
        },
        "id": "6pF3XioJweGG",
        "outputId": "0b777bdb-fc54-4ff6-efb6-1623ed685f46"
      },
      "execution_count": 35,
      "outputs": [
        {
          "output_type": "stream",
          "name": "stdout",
          "text": [
            "Resultados de validación cruzada con One-vs-One (OvO) - kernel poly:\n",
            "Accuracy: 34.44%\n",
            "Precision: 34.44%\n",
            "Recall: 34.44%\n",
            "F1-score: 34.44%\n"
          ]
        }
      ]
    },
    {
      "cell_type": "markdown",
      "source": [
        "# Scenario A KERNEL= SIGMOID"
      ],
      "metadata": {
        "id": "LMfyeCwqwyy0"
      }
    },
    {
      "cell_type": "code",
      "source": [
        "# Print cross validation results with OvO - Kernel Sigmoid\n",
        "\n",
        "print('Resultados de validación cruzada con One-vs-One (OvO) - kernel sigmoid:')\n",
        "print('Accuracy: {:.2f}%'.format(ovo_scores_sigmoid['test_accuracy'].mean() * 100))\n",
        "print('Precision: {:.2f}%'.format(ovo_scores_sigmoid['test_precision_micro'].mean() * 100))\n",
        "print('Recall: {:.2f}%'.format(ovo_scores_sigmoid['test_recall_micro'].mean() * 100))\n",
        "print('F1-score: {:.2f}%'.format(ovo_scores_sigmoid['test_f1_micro'].mean() * 100))"
      ],
      "metadata": {
        "colab": {
          "base_uri": "https://localhost:8080/"
        },
        "id": "j8eP9tA1weJW",
        "outputId": "191870ad-a172-4d8e-e940-38b29e089e4f"
      },
      "execution_count": 36,
      "outputs": [
        {
          "output_type": "stream",
          "name": "stdout",
          "text": [
            "Resultados de validación cruzada con One-vs-One (OvO) - kernel sigmoid:\n",
            "Accuracy: 42.49%\n",
            "Precision: 42.49%\n",
            "Recall: 42.49%\n",
            "F1-score: 42.49%\n"
          ]
        }
      ]
    },
    {
      "cell_type": "markdown",
      "source": [
        "# Scenario A KERNEL= RBF"
      ],
      "metadata": {
        "id": "rM6Luuk3w4kF"
      }
    },
    {
      "cell_type": "code",
      "source": [
        "# Print cross validation results with OvO - Kernel Rbf\n",
        "\n",
        "print('Resultados de validación cruzada con One-vs-One (OvO) - kernel rbf:')\n",
        "print('Accuracy: {:.2f}%'.format(ovo_scores_rbf['test_accuracy'].mean() * 100))\n",
        "print('Precision: {:.2f}%'.format(ovo_scores_rbf['test_precision_micro'].mean() * 100))\n",
        "print('Recall: {:.2f}%'.format(ovo_scores_rbf['test_recall_micro'].mean() * 100))\n",
        "print('F1-score: {:.2f}%'.format(ovo_scores_rbf['test_f1_micro'].mean() * 100))"
      ],
      "metadata": {
        "colab": {
          "base_uri": "https://localhost:8080/"
        },
        "id": "dQpZf0UxweL2",
        "outputId": "c776750d-b594-42cd-a8d5-3e4fcc34a93a"
      },
      "execution_count": 37,
      "outputs": [
        {
          "output_type": "stream",
          "name": "stdout",
          "text": [
            "Resultados de validación cruzada con One-vs-One (OvO) - kernel rbf:\n",
            "Accuracy: 46.88%\n",
            "Precision: 46.88%\n",
            "Recall: 46.88%\n",
            "F1-score: 46.88%\n"
          ]
        }
      ]
    },
    {
      "cell_type": "markdown",
      "source": [
        "#**RANDOM FOREST**\n",
        "\n",
        "\n",
        "Fecha: 21/05/2023"
      ],
      "metadata": {
        "id": "6Bg_CpvuwcG8"
      }
    },
    {
      "cell_type": "code",
      "execution_count": 38,
      "metadata": {
        "colab": {
          "base_uri": "https://localhost:8080/"
        },
        "id": "FAQBw4AWvG_-",
        "outputId": "3a64b510-76b3-4838-a150-2702f295c0d1"
      },
      "outputs": [
        {
          "output_type": "stream",
          "name": "stdout",
          "text": [
            "Looking in indexes: https://pypi.org/simple, https://us-python.pkg.dev/colab-wheels/public/simple/\n",
            "Requirement already satisfied: tensorflow-addons in /usr/local/lib/python3.10/dist-packages (0.20.0)\n",
            "Requirement already satisfied: packaging in /usr/local/lib/python3.10/dist-packages (from tensorflow-addons) (23.1)\n",
            "Requirement already satisfied: typeguard<3.0.0,>=2.7 in /usr/local/lib/python3.10/dist-packages (from tensorflow-addons) (2.13.3)\n"
          ]
        }
      ],
      "source": [
        "!pip install tensorflow-addons\n",
        "\n",
        "import pandas as pd\n",
        "import numpy as np\n",
        "from sklearn.model_selection import train_test_split, GridSearchCV, cross_val_score\n",
        "from sklearn.ensemble import RandomForestClassifier\n",
        "from tensorflow import keras\n",
        "from tensorflow.keras.utils import to_categorical\n",
        "from tensorflow.keras.callbacks import EarlyStopping\n",
        "from sklearn.metrics import roc_curve, auc, classification_report\n",
        "import matplotlib.pyplot as plt"
      ]
    },
    {
      "cell_type": "code",
      "source": [
        "# Load the data\n",
        "url = 'https://raw.githubusercontent.com/micaelCZ/Encrypted-Traffic-Classification-with-Deep-Learning/main/dataset/pre_processedDataset/Scenario2.csv'\n",
        "df = pd.read_csv(url,low_memory=False)\n",
        "dataframe = pd.read_csv(url,low_memory=False, sep=',')\n",
        "     "
      ],
      "metadata": {
        "id": "aBcLwEMKv43k"
      },
      "execution_count": 39,
      "outputs": []
    },
    {
      "cell_type": "code",
      "source": [
        "# Normalise the data\n",
        "def dfNormalize(df):\n",
        "    for feature_name in df.columns:\n",
        "        df.loc[:,feature_name]= pd.to_numeric(df.loc[:,feature_name], errors='coerce').fillna(0)\n",
        "        max_value = df[feature_name].max()\n",
        "        min_value = df[feature_name].min()   \n",
        "        if (max_value - min_value) > 0:\n",
        "            df.loc[:,feature_name] = (df.loc[:,feature_name] - min_value) / (max_value - min_value)\n",
        "        else:\n",
        "            df.loc[:,feature_name] = (df.loc[:,feature_name]- min_value)    \n",
        "    return df"
      ],
      "metadata": {
        "id": "KbtSSmXNv459"
      },
      "execution_count": 40,
      "outputs": []
    },
    {
      "cell_type": "code",
      "source": [
        "# Split the data into train and test sets\n",
        "y = df['label']\n",
        "label_map = {'AUDIO': 0, 'BROWSING': 1, 'CHAT': 2, 'FILE-TRANSFER' : 3, 'MAIL' : 4, 'P2P' : 5, 'VIDEO' : 6, 'VOIP' : 7}\n",
        "change_labels = lambda x: label_map[x] if x in label_map else -1\n",
        "y = df['label'].apply(change_labels)"
      ],
      "metadata": {
        "id": "6r5qEEdvv48k"
      },
      "execution_count": 41,
      "outputs": []
    },
    {
      "cell_type": "code",
      "source": [
        "X = df.iloc[:, 4:-1]\n",
        "X = dfNormalize(X)\n",
        "\n",
        "X_train, X_test, y_train, y_test = train_test_split(X, y, test_size=0.2, random_state=42, stratify=y)"
      ],
      "metadata": {
        "id": "S1htJ4Uuv4_c"
      },
      "execution_count": 42,
      "outputs": []
    },
    {
      "cell_type": "code",
      "source": [
        "# Define the parameter grid\n",
        "param_grid = {\n",
        "    \n",
        "    'n_estimators': [85, 100, 115],\n",
        "    'criterion': ['gini', 'entropy'],\n",
        "    'max_depth': [5, 10, 15],\n",
        "    'max_features': ['auto', 'log2', 'sqrt'] \n",
        "}"
      ],
      "metadata": {
        "id": "xseKCpnDv5CF"
      },
      "execution_count": 43,
      "outputs": []
    },
    {
      "cell_type": "code",
      "source": [
        "# Instantiate the model and the grid search\n",
        "model = RandomForestClassifier(random_state=42)\n",
        "grid_search = GridSearchCV(model, param_grid=param_grid, cv=5, n_jobs=-1)"
      ],
      "metadata": {
        "id": "cMFVbniywL3u"
      },
      "execution_count": 44,
      "outputs": []
    },
    {
      "cell_type": "code",
      "source": [
        "# Fit the grid search to the data using cross-validation\n",
        "grid_search.fit(X_train, y_train)\n",
        "cv_scores = cross_val_score(grid_search, X_train, y_train, cv=5)"
      ],
      "metadata": {
        "colab": {
          "base_uri": "https://localhost:8080/"
        },
        "id": "Zu5LFNQiwL6k",
        "outputId": "08a5e374-22b6-4315-8ad9-98bf2bb87170"
      },
      "execution_count": 45,
      "outputs": [
        {
          "output_type": "stream",
          "name": "stderr",
          "text": [
            "/usr/local/lib/python3.10/dist-packages/sklearn/ensemble/_forest.py:424: FutureWarning: `max_features='auto'` has been deprecated in 1.1 and will be removed in 1.3. To keep the past behaviour, explicitly set `max_features='sqrt'` or remove this parameter as it is also the default value for RandomForestClassifiers and ExtraTreesClassifiers.\n",
            "  warn(\n",
            "/usr/local/lib/python3.10/dist-packages/sklearn/ensemble/_forest.py:424: FutureWarning: `max_features='auto'` has been deprecated in 1.1 and will be removed in 1.3. To keep the past behaviour, explicitly set `max_features='sqrt'` or remove this parameter as it is also the default value for RandomForestClassifiers and ExtraTreesClassifiers.\n",
            "  warn(\n",
            "/usr/local/lib/python3.10/dist-packages/sklearn/ensemble/_forest.py:424: FutureWarning: `max_features='auto'` has been deprecated in 1.1 and will be removed in 1.3. To keep the past behaviour, explicitly set `max_features='sqrt'` or remove this parameter as it is also the default value for RandomForestClassifiers and ExtraTreesClassifiers.\n",
            "  warn(\n",
            "/usr/local/lib/python3.10/dist-packages/sklearn/ensemble/_forest.py:424: FutureWarning: `max_features='auto'` has been deprecated in 1.1 and will be removed in 1.3. To keep the past behaviour, explicitly set `max_features='sqrt'` or remove this parameter as it is also the default value for RandomForestClassifiers and ExtraTreesClassifiers.\n",
            "  warn(\n",
            "/usr/local/lib/python3.10/dist-packages/sklearn/ensemble/_forest.py:424: FutureWarning: `max_features='auto'` has been deprecated in 1.1 and will be removed in 1.3. To keep the past behaviour, explicitly set `max_features='sqrt'` or remove this parameter as it is also the default value for RandomForestClassifiers and ExtraTreesClassifiers.\n",
            "  warn(\n",
            "/usr/local/lib/python3.10/dist-packages/sklearn/ensemble/_forest.py:424: FutureWarning: `max_features='auto'` has been deprecated in 1.1 and will be removed in 1.3. To keep the past behaviour, explicitly set `max_features='sqrt'` or remove this parameter as it is also the default value for RandomForestClassifiers and ExtraTreesClassifiers.\n",
            "  warn(\n"
          ]
        }
      ]
    },
    {
      "cell_type": "code",
      "source": [
        "print(f\"Cross validation scores: {cv_scores}\")\n",
        "print(f\"Mean cross validation score: {np.mean(cv_scores)}\")"
      ],
      "metadata": {
        "colab": {
          "base_uri": "https://localhost:8080/"
        },
        "id": "a_GHoc0ZwL9E",
        "outputId": "8235e50b-7a0e-41fb-cc93-f1bef4be81df"
      },
      "execution_count": 46,
      "outputs": [
        {
          "output_type": "stream",
          "name": "stdout",
          "text": [
            "Cross validation scores: [0.82595183 0.84071484 0.83139083 0.83993784 0.83061383]\n",
            "Mean cross validation score: 0.8337218337218337\n"
          ]
        }
      ]
    },
    {
      "cell_type": "code",
      "source": [
        "# Get the best model and evaluate its performance on the test set\n",
        "best_model = grid_search.best_estimator_\n",
        "y_pred = best_model.predict(X_test)\n",
        "print(classification_report(y_test, y_pred))"
      ],
      "metadata": {
        "colab": {
          "base_uri": "https://localhost:8080/"
        },
        "id": "3PjvhfLIwL_s",
        "outputId": "d4e4024a-f585-40bb-bb9d-14fe0c312839"
      },
      "execution_count": 47,
      "outputs": [
        {
          "output_type": "stream",
          "name": "stdout",
          "text": [
            "              precision    recall  f1-score   support\n",
            "\n",
            "           0       0.77      0.74      0.75       144\n",
            "           1       0.66      0.84      0.74       321\n",
            "           2       0.53      0.28      0.36        65\n",
            "           3       0.93      0.91      0.92       173\n",
            "           4       0.78      0.38      0.51        56\n",
            "           5       0.98      0.97      0.97       217\n",
            "           6       0.77      0.71      0.74       175\n",
            "           7       0.99      0.98      0.98       458\n",
            "\n",
            "    accuracy                           0.84      1609\n",
            "   macro avg       0.80      0.73      0.75      1609\n",
            "weighted avg       0.85      0.84      0.84      1609\n",
            "\n"
          ]
        }
      ]
    },
    {
      "cell_type": "markdown",
      "source": [
        "# CNN\n"
      ],
      "metadata": {
        "id": "JSjvSXB8xKa0"
      }
    },
    {
      "cell_type": "code",
      "source": [
        "import pandas as pd\n",
        "import numpy as np\n",
        "from sklearn.model_selection import train_test_split\n",
        "from tensorflow import keras\n",
        "from sklearn.metrics import roc_curve, auc\n",
        "import matplotlib.pyplot as plt\n",
        "from tensorflow.keras.utils import to_categorical\n",
        "from tensorflow.keras.metrics import Precision, Recall\n",
        "from keras.callbacks import EarlyStopping\n",
        "from tensorflow.keras.wrappers.scikit_learn import KerasClassifier\n",
        "from sklearn.model_selection import GridSearchCV\n",
        "from tensorflow_addons.metrics import F1Score"
      ],
      "metadata": {
        "id": "-GG_EzQwwMB2"
      },
      "execution_count": 48,
      "outputs": []
    },
    {
      "cell_type": "code",
      "source": [
        "# Load the data\n",
        "url = 'https://raw.githubusercontent.com/micaelCZ/Paper_Repositorio/main/dataset/datasetPreprocesado/Escenario2.csv'\n",
        "df = pd.read_csv(url)\n",
        "df = pd.read_csv(url,low_memory=False)\n",
        "dataframe = pd.read_csv(url,low_memory=False)"
      ],
      "metadata": {
        "id": "jKNNmO8awMEc"
      },
      "execution_count": 49,
      "outputs": []
    },
    {
      "cell_type": "code",
      "source": [
        "# Normalise the data\n",
        "def dfNormalize(df):\n",
        "    for feature_name in df.columns:\n",
        "        df.loc[:,feature_name]= pd.to_numeric(df.loc[:,feature_name], errors='coerce').fillna(0)\n",
        "        max_value = df[feature_name].max()\n",
        "        min_value = df[feature_name].min()   \n",
        "        if (max_value - min_value) > 0:\n",
        "            df.loc[:,feature_name] = (df.loc[:,feature_name] - min_value) / (max_value - min_value)\n",
        "        else:\n",
        "            df.loc[:,feature_name] = (df.loc[:,feature_name]- min_value)    \n",
        "    return df"
      ],
      "metadata": {
        "id": "uTAC1ZbZwMG1"
      },
      "execution_count": 50,
      "outputs": []
    },
    {
      "cell_type": "code",
      "source": [
        "# Split the data into train and test sets\n",
        "y = df['label']\n",
        "label_map = {'AUDIO': 0, 'BROWSING': 1, 'CHAT': 2, 'FILE-TRANSFER' : 3, 'MAIL' : 4, 'P2P' : 5, 'VIDEO' : 6, 'VOIP' : 7}\n",
        "change_labels = lambda x: label_map[x] if x in label_map else -1\n",
        "y = df['label'].apply(change_labels)"
      ],
      "metadata": {
        "id": "YuLnW3BpxWLc"
      },
      "execution_count": 51,
      "outputs": []
    },
    {
      "cell_type": "code",
      "source": [
        "X = df.iloc[:, 4:-1]\n",
        "X = dfNormalize(X)\n",
        "X_train, X_test, y_train, y_test = train_test_split(X, y, test_size=0.2, random_state=42, stratify=y)"
      ],
      "metadata": {
        "id": "u5chTkqexWOD"
      },
      "execution_count": 52,
      "outputs": []
    },
    {
      "cell_type": "code",
      "source": [
        "# Reshape the data for Conv1D\n",
        "X_train = X_train.values.reshape((X_train.shape[0], X_train.shape[1], 1))\n",
        "X_test = X_test.values.reshape((X_test.shape[0], X_test.shape[1], 1))"
      ],
      "metadata": {
        "id": "5Ia3e7ATxWQ8"
      },
      "execution_count": 53,
      "outputs": []
    },
    {
      "cell_type": "code",
      "source": [
        "# One-hot encode the labels\n",
        "y_train = to_categorical(y_train)\n",
        "y_test = to_categorical(y_test)"
      ],
      "metadata": {
        "id": "QX7-NcFfxWTs"
      },
      "execution_count": 54,
      "outputs": []
    },
    {
      "cell_type": "code",
      "source": [
        "def create_model(optimizer='adam', dropout_rate=0.5):\n",
        "    model = keras.models.Sequential([\n",
        "        keras.layers.Conv1D(filters=64, kernel_size=3, activation='relu', input_shape=(X_train.shape[1], 1)),\n",
        "        keras.layers.MaxPool1D(pool_size=2),\n",
        "        keras.layers.Conv1D(filters=128, kernel_size=3, activation='relu'),\n",
        "        keras.layers.MaxPool1D(pool_size=2),\n",
        "        keras.layers.Flatten(),\n",
        "        keras.layers.Dense(256, activation='relu'),\n",
        "        keras.layers.Dropout(dropout_rate),\n",
        "        keras.layers.Dense(128, activation='relu'),\n",
        "        keras.layers.Dropout(dropout_rate),\n",
        "        keras.layers.Dense(8, activation='softmax')\n",
        "    ])\n",
        "    model.compile(optimizer=optimizer, loss='categorical_crossentropy', \n",
        "                  metrics=['accuracy', Precision(), Recall(), F1Score(num_classes=8, average='macro')])\n",
        "    return model"
      ],
      "metadata": {
        "id": "tyq194UUxWZU"
      },
      "execution_count": 55,
      "outputs": []
    },
    {
      "cell_type": "code",
      "source": [
        "# Create the KerasClassifier for GridSearchCV\n",
        "model = KerasClassifier(build_fn=create_model, verbose=0)\n"
      ],
      "metadata": {
        "colab": {
          "base_uri": "https://localhost:8080/"
        },
        "id": "G2GYl_TyxWb-",
        "outputId": "fc2bb5bc-ebbc-41f5-ba39-fd7d258a486b"
      },
      "execution_count": 56,
      "outputs": [
        {
          "output_type": "stream",
          "name": "stderr",
          "text": [
            "<ipython-input-56-8d21fb633ffd>:2: DeprecationWarning: KerasClassifier is deprecated, use Sci-Keras (https://github.com/adriangb/scikeras) instead. See https://www.adriangb.com/scikeras/stable/migration.html for help migrating.\n",
            "  model = KerasClassifier(build_fn=create_model, verbose=0)\n"
          ]
        }
      ]
    },
    {
      "cell_type": "code",
      "source": [
        "# Define the hyperparameters to search\n",
        "param_grid = {\n",
        "    'optimizer': ['adam', 'sgd'],\n",
        "    'dropout_rate': [0.5, 0.6, 0.7, 0.8, 0.9],\n",
        "    'epochs': [30, 40, 50]\n",
        "}\n",
        "\n",
        "# Create the GridSearchCV object\n",
        "grid_search = GridSearchCV(estimator=model, param_grid=param_grid, cv=3)\n",
        "\n",
        "# Perform the grid search\n",
        "grid_search.fit(X_train, y_train)"
      ],
      "metadata": {
        "colab": {
          "base_uri": "https://localhost:8080/",
          "height": 118
        },
        "id": "_aHuawHxxWe_",
        "outputId": "718da8d1-695a-42d5-f2ba-cfb0ba37ed70"
      },
      "execution_count": 61,
      "outputs": [
        {
          "output_type": "execute_result",
          "data": {
            "text/plain": [
              "GridSearchCV(cv=3,\n",
              "             estimator=<keras.wrappers.scikit_learn.KerasClassifier object at 0x7fe19102d6f0>,\n",
              "             param_grid={'dropout_rate': [0.5, 0.6, 0.7, 0.8, 0.9],\n",
              "                         'epochs': [30, 40, 50], 'optimizer': ['adam', 'sgd']})"
            ],
            "text/html": [
              "<style>#sk-container-id-1 {color: black;background-color: white;}#sk-container-id-1 pre{padding: 0;}#sk-container-id-1 div.sk-toggleable {background-color: white;}#sk-container-id-1 label.sk-toggleable__label {cursor: pointer;display: block;width: 100%;margin-bottom: 0;padding: 0.3em;box-sizing: border-box;text-align: center;}#sk-container-id-1 label.sk-toggleable__label-arrow:before {content: \"▸\";float: left;margin-right: 0.25em;color: #696969;}#sk-container-id-1 label.sk-toggleable__label-arrow:hover:before {color: black;}#sk-container-id-1 div.sk-estimator:hover label.sk-toggleable__label-arrow:before {color: black;}#sk-container-id-1 div.sk-toggleable__content {max-height: 0;max-width: 0;overflow: hidden;text-align: left;background-color: #f0f8ff;}#sk-container-id-1 div.sk-toggleable__content pre {margin: 0.2em;color: black;border-radius: 0.25em;background-color: #f0f8ff;}#sk-container-id-1 input.sk-toggleable__control:checked~div.sk-toggleable__content {max-height: 200px;max-width: 100%;overflow: auto;}#sk-container-id-1 input.sk-toggleable__control:checked~label.sk-toggleable__label-arrow:before {content: \"▾\";}#sk-container-id-1 div.sk-estimator input.sk-toggleable__control:checked~label.sk-toggleable__label {background-color: #d4ebff;}#sk-container-id-1 div.sk-label input.sk-toggleable__control:checked~label.sk-toggleable__label {background-color: #d4ebff;}#sk-container-id-1 input.sk-hidden--visually {border: 0;clip: rect(1px 1px 1px 1px);clip: rect(1px, 1px, 1px, 1px);height: 1px;margin: -1px;overflow: hidden;padding: 0;position: absolute;width: 1px;}#sk-container-id-1 div.sk-estimator {font-family: monospace;background-color: #f0f8ff;border: 1px dotted black;border-radius: 0.25em;box-sizing: border-box;margin-bottom: 0.5em;}#sk-container-id-1 div.sk-estimator:hover {background-color: #d4ebff;}#sk-container-id-1 div.sk-parallel-item::after {content: \"\";width: 100%;border-bottom: 1px solid gray;flex-grow: 1;}#sk-container-id-1 div.sk-label:hover label.sk-toggleable__label {background-color: #d4ebff;}#sk-container-id-1 div.sk-serial::before {content: \"\";position: absolute;border-left: 1px solid gray;box-sizing: border-box;top: 0;bottom: 0;left: 50%;z-index: 0;}#sk-container-id-1 div.sk-serial {display: flex;flex-direction: column;align-items: center;background-color: white;padding-right: 0.2em;padding-left: 0.2em;position: relative;}#sk-container-id-1 div.sk-item {position: relative;z-index: 1;}#sk-container-id-1 div.sk-parallel {display: flex;align-items: stretch;justify-content: center;background-color: white;position: relative;}#sk-container-id-1 div.sk-item::before, #sk-container-id-1 div.sk-parallel-item::before {content: \"\";position: absolute;border-left: 1px solid gray;box-sizing: border-box;top: 0;bottom: 0;left: 50%;z-index: -1;}#sk-container-id-1 div.sk-parallel-item {display: flex;flex-direction: column;z-index: 1;position: relative;background-color: white;}#sk-container-id-1 div.sk-parallel-item:first-child::after {align-self: flex-end;width: 50%;}#sk-container-id-1 div.sk-parallel-item:last-child::after {align-self: flex-start;width: 50%;}#sk-container-id-1 div.sk-parallel-item:only-child::after {width: 0;}#sk-container-id-1 div.sk-dashed-wrapped {border: 1px dashed gray;margin: 0 0.4em 0.5em 0.4em;box-sizing: border-box;padding-bottom: 0.4em;background-color: white;}#sk-container-id-1 div.sk-label label {font-family: monospace;font-weight: bold;display: inline-block;line-height: 1.2em;}#sk-container-id-1 div.sk-label-container {text-align: center;}#sk-container-id-1 div.sk-container {/* jupyter's `normalize.less` sets `[hidden] { display: none; }` but bootstrap.min.css set `[hidden] { display: none !important; }` so we also need the `!important` here to be able to override the default hidden behavior on the sphinx rendered scikit-learn.org. See: https://github.com/scikit-learn/scikit-learn/issues/21755 */display: inline-block !important;position: relative;}#sk-container-id-1 div.sk-text-repr-fallback {display: none;}</style><div id=\"sk-container-id-1\" class=\"sk-top-container\"><div class=\"sk-text-repr-fallback\"><pre>GridSearchCV(cv=3,\n",
              "             estimator=&lt;keras.wrappers.scikit_learn.KerasClassifier object at 0x7fe19102d6f0&gt;,\n",
              "             param_grid={&#x27;dropout_rate&#x27;: [0.5, 0.6, 0.7, 0.8, 0.9],\n",
              "                         &#x27;epochs&#x27;: [30, 40, 50], &#x27;optimizer&#x27;: [&#x27;adam&#x27;, &#x27;sgd&#x27;]})</pre><b>In a Jupyter environment, please rerun this cell to show the HTML representation or trust the notebook. <br />On GitHub, the HTML representation is unable to render, please try loading this page with nbviewer.org.</b></div><div class=\"sk-container\" hidden><div class=\"sk-item sk-dashed-wrapped\"><div class=\"sk-label-container\"><div class=\"sk-label sk-toggleable\"><input class=\"sk-toggleable__control sk-hidden--visually\" id=\"sk-estimator-id-1\" type=\"checkbox\" ><label for=\"sk-estimator-id-1\" class=\"sk-toggleable__label sk-toggleable__label-arrow\">GridSearchCV</label><div class=\"sk-toggleable__content\"><pre>GridSearchCV(cv=3,\n",
              "             estimator=&lt;keras.wrappers.scikit_learn.KerasClassifier object at 0x7fe19102d6f0&gt;,\n",
              "             param_grid={&#x27;dropout_rate&#x27;: [0.5, 0.6, 0.7, 0.8, 0.9],\n",
              "                         &#x27;epochs&#x27;: [30, 40, 50], &#x27;optimizer&#x27;: [&#x27;adam&#x27;, &#x27;sgd&#x27;]})</pre></div></div></div><div class=\"sk-parallel\"><div class=\"sk-parallel-item\"><div class=\"sk-item\"><div class=\"sk-label-container\"><div class=\"sk-label sk-toggleable\"><input class=\"sk-toggleable__control sk-hidden--visually\" id=\"sk-estimator-id-2\" type=\"checkbox\" ><label for=\"sk-estimator-id-2\" class=\"sk-toggleable__label sk-toggleable__label-arrow\">estimator: KerasClassifier</label><div class=\"sk-toggleable__content\"><pre>&lt;keras.wrappers.scikit_learn.KerasClassifier object at 0x7fe19102d6f0&gt;</pre></div></div></div><div class=\"sk-serial\"><div class=\"sk-item\"><div class=\"sk-estimator sk-toggleable\"><input class=\"sk-toggleable__control sk-hidden--visually\" id=\"sk-estimator-id-3\" type=\"checkbox\" ><label for=\"sk-estimator-id-3\" class=\"sk-toggleable__label sk-toggleable__label-arrow\">KerasClassifier</label><div class=\"sk-toggleable__content\"><pre>&lt;keras.wrappers.scikit_learn.KerasClassifier object at 0x7fe19102d6f0&gt;</pre></div></div></div></div></div></div></div></div></div></div>"
            ]
          },
          "metadata": {},
          "execution_count": 61
        }
      ]
    },
    {
      "cell_type": "code",
      "source": [
        "# Get the best hyperparameters\n",
        "best_params = grid_search.best_params_\n",
        "best_optimizer = best_params['optimizer']\n",
        "best_dropout_rate = best_params['dropout_rate']\n",
        "best_epochs = best_params['epochs']"
      ],
      "metadata": {
        "id": "-VMr0KC0xiHk"
      },
      "execution_count": 62,
      "outputs": []
    },
    {
      "cell_type": "code",
      "source": [
        "# Create and fit the model with the best hyperparameters\n",
        "best_model = create_model(optimizer=best_optimizer, dropout_rate=best_dropout_rate)\n",
        "best_model.fit(X_train, y_train, epochs=best_epochs, batch_size=32, verbose=1, validation_split=0.1,\n",
        "              callbacks=[EarlyStopping(patience=5)])"
      ],
      "metadata": {
        "colab": {
          "base_uri": "https://localhost:8080/"
        },
        "id": "UMZzyPl0QyuU",
        "outputId": "d0d915d6-d36a-4d77-8905-8a32c5eede78"
      },
      "execution_count": 63,
      "outputs": [
        {
          "output_type": "stream",
          "name": "stdout",
          "text": [
            "Epoch 1/50\n",
            "181/181 [==============================] - 5s 17ms/step - loss: 1.6220 - accuracy: 0.4091 - precision_91: 0.5462 - recall_91: 0.1216 - f1_score: 0.1801 - val_loss: 1.4395 - val_accuracy: 0.4519 - val_precision_91: 0.5867 - val_recall_91: 0.2733 - val_f1_score: 0.1502\n",
            "Epoch 2/50\n",
            "181/181 [==============================] - 3s 15ms/step - loss: 1.4381 - accuracy: 0.4592 - precision_91: 0.6122 - recall_91: 0.2129 - f1_score: 0.2151 - val_loss: 1.3790 - val_accuracy: 0.4907 - val_precision_91: 0.7778 - val_recall_91: 0.1630 - val_f1_score: 0.2348\n",
            "Epoch 3/50\n",
            "181/181 [==============================] - 2s 12ms/step - loss: 1.3461 - accuracy: 0.4982 - precision_91: 0.6714 - recall_91: 0.2753 - f1_score: 0.2730 - val_loss: 1.2767 - val_accuracy: 0.5233 - val_precision_91: 0.7710 - val_recall_91: 0.3137 - val_f1_score: 0.3071\n",
            "Epoch 4/50\n",
            "181/181 [==============================] - 2s 12ms/step - loss: 1.2404 - accuracy: 0.5483 - precision_91: 0.7370 - recall_91: 0.3276 - f1_score: 0.3475 - val_loss: 1.1807 - val_accuracy: 0.5637 - val_precision_91: 0.7281 - val_recall_91: 0.3618 - val_f1_score: 0.3722\n",
            "Epoch 5/50\n",
            "181/181 [==============================] - 2s 11ms/step - loss: 1.1534 - accuracy: 0.6166 - precision_91: 0.7821 - recall_91: 0.3918 - f1_score: 0.4201 - val_loss: 1.0947 - val_accuracy: 0.6413 - val_precision_91: 0.7772 - val_recall_91: 0.4332 - val_f1_score: 0.4515\n",
            "Epoch 6/50\n",
            "181/181 [==============================] - 2s 11ms/step - loss: 1.0756 - accuracy: 0.6543 - precision_91: 0.7824 - recall_91: 0.4483 - f1_score: 0.4587 - val_loss: 1.0581 - val_accuracy: 0.6366 - val_precision_91: 0.7568 - val_recall_91: 0.4783 - val_f1_score: 0.4477\n",
            "Epoch 7/50\n",
            "181/181 [==============================] - 3s 16ms/step - loss: 1.0262 - accuracy: 0.6647 - precision_91: 0.7898 - recall_91: 0.4956 - f1_score: 0.4656 - val_loss: 1.0137 - val_accuracy: 0.6506 - val_precision_91: 0.7581 - val_recall_91: 0.5109 - val_f1_score: 0.4566\n",
            "Epoch 8/50\n",
            "181/181 [==============================] - 2s 14ms/step - loss: 0.9992 - accuracy: 0.6671 - precision_91: 0.7865 - recall_91: 0.5129 - f1_score: 0.4686 - val_loss: 1.0129 - val_accuracy: 0.6491 - val_precision_91: 0.7405 - val_recall_91: 0.5140 - val_f1_score: 0.4631\n",
            "Epoch 9/50\n",
            "181/181 [==============================] - 2s 11ms/step - loss: 0.9786 - accuracy: 0.6752 - precision_91: 0.7938 - recall_91: 0.5332 - f1_score: 0.4759 - val_loss: 0.9838 - val_accuracy: 0.6646 - val_precision_91: 0.7663 - val_recall_91: 0.5295 - val_f1_score: 0.4749\n",
            "Epoch 10/50\n",
            "181/181 [==============================] - 2s 12ms/step - loss: 0.9537 - accuracy: 0.6802 - precision_91: 0.7928 - recall_91: 0.5320 - f1_score: 0.4822 - val_loss: 0.9601 - val_accuracy: 0.6584 - val_precision_91: 0.7505 - val_recall_91: 0.5559 - val_f1_score: 0.4667\n",
            "Epoch 11/50\n",
            "181/181 [==============================] - 2s 12ms/step - loss: 0.9413 - accuracy: 0.6838 - precision_91: 0.7938 - recall_91: 0.5445 - f1_score: 0.4821 - val_loss: 0.9886 - val_accuracy: 0.6506 - val_precision_91: 0.7458 - val_recall_91: 0.5466 - val_f1_score: 0.4612\n",
            "Epoch 12/50\n",
            "181/181 [==============================] - 2s 11ms/step - loss: 0.9116 - accuracy: 0.6911 - precision_91: 0.7958 - recall_91: 0.5666 - f1_score: 0.4924 - val_loss: 0.9320 - val_accuracy: 0.6677 - val_precision_91: 0.7583 - val_recall_91: 0.5699 - val_f1_score: 0.4748\n",
            "Epoch 13/50\n",
            "181/181 [==============================] - 3s 18ms/step - loss: 0.8793 - accuracy: 0.7013 - precision_91: 0.8008 - recall_91: 0.5795 - f1_score: 0.5057 - val_loss: 0.9534 - val_accuracy: 0.6894 - val_precision_91: 0.7824 - val_recall_91: 0.5248 - val_f1_score: 0.5111\n",
            "Epoch 14/50\n",
            "181/181 [==============================] - 2s 12ms/step - loss: 0.8757 - accuracy: 0.7016 - precision_91: 0.8070 - recall_91: 0.5806 - f1_score: 0.5041 - val_loss: 0.9444 - val_accuracy: 0.6848 - val_precision_91: 0.7617 - val_recall_91: 0.5559 - val_f1_score: 0.5036\n",
            "Epoch 15/50\n",
            "181/181 [==============================] - 2s 11ms/step - loss: 0.8541 - accuracy: 0.7045 - precision_91: 0.8101 - recall_91: 0.5899 - f1_score: 0.5054 - val_loss: 0.9205 - val_accuracy: 0.6863 - val_precision_91: 0.7782 - val_recall_91: 0.5885 - val_f1_score: 0.5018\n",
            "Epoch 16/50\n",
            "181/181 [==============================] - 2s 12ms/step - loss: 0.8288 - accuracy: 0.7159 - precision_91: 0.8190 - recall_91: 0.6049 - f1_score: 0.5197 - val_loss: 0.8662 - val_accuracy: 0.6972 - val_precision_91: 0.7979 - val_recall_91: 0.6009 - val_f1_score: 0.5196\n",
            "Epoch 17/50\n",
            "181/181 [==============================] - 2s 12ms/step - loss: 0.8055 - accuracy: 0.7194 - precision_91: 0.8182 - recall_91: 0.6099 - f1_score: 0.5260 - val_loss: 0.8664 - val_accuracy: 0.6972 - val_precision_91: 0.7626 - val_recall_91: 0.6335 - val_f1_score: 0.5074\n",
            "Epoch 18/50\n",
            "181/181 [==============================] - 2s 13ms/step - loss: 0.7956 - accuracy: 0.7220 - precision_91: 0.8161 - recall_91: 0.6201 - f1_score: 0.5302 - val_loss: 0.8812 - val_accuracy: 0.6925 - val_precision_91: 0.7637 - val_recall_91: 0.6071 - val_f1_score: 0.4976\n",
            "Epoch 19/50\n",
            "181/181 [==============================] - 3s 18ms/step - loss: 0.7886 - accuracy: 0.7237 - precision_91: 0.8210 - recall_91: 0.6227 - f1_score: 0.5323 - val_loss: 0.8216 - val_accuracy: 0.7050 - val_precision_91: 0.7908 - val_recall_91: 0.6165 - val_f1_score: 0.5149\n",
            "Epoch 20/50\n",
            "181/181 [==============================] - 2s 12ms/step - loss: 0.7784 - accuracy: 0.7279 - precision_91: 0.8212 - recall_91: 0.6267 - f1_score: 0.5335 - val_loss: 0.8355 - val_accuracy: 0.7189 - val_precision_91: 0.7805 - val_recall_91: 0.6460 - val_f1_score: 0.5325\n",
            "Epoch 21/50\n",
            "181/181 [==============================] - 2s 12ms/step - loss: 0.7544 - accuracy: 0.7341 - precision_91: 0.8265 - recall_91: 0.6343 - f1_score: 0.5374 - val_loss: 0.8209 - val_accuracy: 0.7065 - val_precision_91: 0.7820 - val_recall_91: 0.6351 - val_f1_score: 0.5188\n",
            "Epoch 22/50\n",
            "181/181 [==============================] - 2s 12ms/step - loss: 0.7414 - accuracy: 0.7399 - precision_91: 0.8390 - recall_91: 0.6406 - f1_score: 0.5558 - val_loss: 0.8392 - val_accuracy: 0.7127 - val_precision_91: 0.7706 - val_recall_91: 0.6258 - val_f1_score: 0.5247\n",
            "Epoch 23/50\n",
            "181/181 [==============================] - 2s 12ms/step - loss: 0.7322 - accuracy: 0.7406 - precision_91: 0.8337 - recall_91: 0.6451 - f1_score: 0.5511 - val_loss: 0.7970 - val_accuracy: 0.7174 - val_precision_91: 0.7951 - val_recall_91: 0.6506 - val_f1_score: 0.5241\n",
            "Epoch 24/50\n",
            "181/181 [==============================] - 3s 15ms/step - loss: 0.7328 - accuracy: 0.7349 - precision_91: 0.8306 - recall_91: 0.6386 - f1_score: 0.5459 - val_loss: 0.8060 - val_accuracy: 0.7314 - val_precision_91: 0.7887 - val_recall_91: 0.6491 - val_f1_score: 0.5510\n",
            "Epoch 25/50\n",
            "181/181 [==============================] - 3s 15ms/step - loss: 0.7196 - accuracy: 0.7437 - precision_91: 0.8425 - recall_91: 0.6493 - f1_score: 0.5559 - val_loss: 0.8074 - val_accuracy: 0.7158 - val_precision_91: 0.7744 - val_recall_91: 0.6661 - val_f1_score: 0.5230\n",
            "Epoch 26/50\n",
            "181/181 [==============================] - 2s 12ms/step - loss: 0.7088 - accuracy: 0.7525 - precision_91: 0.8394 - recall_91: 0.6564 - f1_score: 0.5650 - val_loss: 0.7963 - val_accuracy: 0.7220 - val_precision_91: 0.7759 - val_recall_91: 0.6506 - val_f1_score: 0.5331\n",
            "Epoch 27/50\n",
            "181/181 [==============================] - 2s 12ms/step - loss: 0.7062 - accuracy: 0.7550 - precision_91: 0.8425 - recall_91: 0.6538 - f1_score: 0.5730 - val_loss: 0.7911 - val_accuracy: 0.7174 - val_precision_91: 0.7858 - val_recall_91: 0.6553 - val_f1_score: 0.5342\n",
            "Epoch 28/50\n",
            "181/181 [==============================] - 2s 12ms/step - loss: 0.7029 - accuracy: 0.7513 - precision_91: 0.8371 - recall_91: 0.6583 - f1_score: 0.5630 - val_loss: 0.7942 - val_accuracy: 0.7189 - val_precision_91: 0.7965 - val_recall_91: 0.6382 - val_f1_score: 0.5329\n",
            "Epoch 29/50\n",
            "181/181 [==============================] - 2s 12ms/step - loss: 0.6860 - accuracy: 0.7529 - precision_91: 0.8341 - recall_91: 0.6614 - f1_score: 0.5746 - val_loss: 0.7812 - val_accuracy: 0.7236 - val_precision_91: 0.7836 - val_recall_91: 0.6522 - val_f1_score: 0.5345\n",
            "Epoch 30/50\n",
            "181/181 [==============================] - 3s 17ms/step - loss: 0.6763 - accuracy: 0.7620 - precision_91: 0.8447 - recall_91: 0.6723 - f1_score: 0.5777 - val_loss: 0.7829 - val_accuracy: 0.7267 - val_precision_91: 0.7942 - val_recall_91: 0.6413 - val_f1_score: 0.5551\n",
            "Epoch 31/50\n",
            "181/181 [==============================] - 2s 13ms/step - loss: 0.6820 - accuracy: 0.7538 - precision_91: 0.8418 - recall_91: 0.6660 - f1_score: 0.5633 - val_loss: 0.7714 - val_accuracy: 0.7329 - val_precision_91: 0.8034 - val_recall_91: 0.6661 - val_f1_score: 0.5395\n",
            "Epoch 32/50\n",
            "181/181 [==============================] - 2s 12ms/step - loss: 0.6696 - accuracy: 0.7627 - precision_91: 0.8491 - recall_91: 0.6716 - f1_score: 0.5854 - val_loss: 0.7603 - val_accuracy: 0.7267 - val_precision_91: 0.7832 - val_recall_91: 0.6677 - val_f1_score: 0.5388\n",
            "Epoch 33/50\n",
            "181/181 [==============================] - 2s 12ms/step - loss: 0.6693 - accuracy: 0.7600 - precision_91: 0.8467 - recall_91: 0.6735 - f1_score: 0.5804 - val_loss: 0.7538 - val_accuracy: 0.7329 - val_precision_91: 0.8176 - val_recall_91: 0.6475 - val_f1_score: 0.5605\n",
            "Epoch 34/50\n",
            "181/181 [==============================] - 2s 12ms/step - loss: 0.6693 - accuracy: 0.7646 - precision_91: 0.8483 - recall_91: 0.6759 - f1_score: 0.5898 - val_loss: 0.7518 - val_accuracy: 0.7376 - val_precision_91: 0.7950 - val_recall_91: 0.6863 - val_f1_score: 0.5601\n",
            "Epoch 35/50\n",
            "181/181 [==============================] - 2s 13ms/step - loss: 0.6557 - accuracy: 0.7657 - precision_91: 0.8446 - recall_91: 0.6814 - f1_score: 0.6002 - val_loss: 0.7585 - val_accuracy: 0.7329 - val_precision_91: 0.8007 - val_recall_91: 0.6677 - val_f1_score: 0.5721\n",
            "Epoch 36/50\n",
            "181/181 [==============================] - 3s 17ms/step - loss: 0.6500 - accuracy: 0.7639 - precision_91: 0.8471 - recall_91: 0.6793 - f1_score: 0.5915 - val_loss: 0.7441 - val_accuracy: 0.7376 - val_precision_91: 0.7993 - val_recall_91: 0.6863 - val_f1_score: 0.5712\n",
            "Epoch 37/50\n",
            "181/181 [==============================] - 2s 12ms/step - loss: 0.6471 - accuracy: 0.7693 - precision_91: 0.8501 - recall_91: 0.6835 - f1_score: 0.6073 - val_loss: 0.7785 - val_accuracy: 0.7422 - val_precision_91: 0.7882 - val_recall_91: 0.6817 - val_f1_score: 0.5754\n",
            "Epoch 38/50\n",
            "181/181 [==============================] - 2s 12ms/step - loss: 0.6378 - accuracy: 0.7715 - precision_91: 0.8514 - recall_91: 0.6914 - f1_score: 0.6162 - val_loss: 0.7936 - val_accuracy: 0.7391 - val_precision_91: 0.7905 - val_recall_91: 0.6739 - val_f1_score: 0.5640\n",
            "Epoch 39/50\n",
            "181/181 [==============================] - 2s 11ms/step - loss: 0.6365 - accuracy: 0.7698 - precision_91: 0.8478 - recall_91: 0.6895 - f1_score: 0.6108 - val_loss: 0.7447 - val_accuracy: 0.7500 - val_precision_91: 0.8071 - val_recall_91: 0.6693 - val_f1_score: 0.5964\n",
            "Epoch 40/50\n",
            "181/181 [==============================] - 2s 12ms/step - loss: 0.6332 - accuracy: 0.7677 - precision_91: 0.8478 - recall_91: 0.6887 - f1_score: 0.6122 - val_loss: 0.7564 - val_accuracy: 0.7345 - val_precision_91: 0.8170 - val_recall_91: 0.6584 - val_f1_score: 0.5724\n",
            "Epoch 41/50\n",
            "181/181 [==============================] - 2s 14ms/step - loss: 0.6388 - accuracy: 0.7712 - precision_91: 0.8531 - recall_91: 0.6930 - f1_score: 0.6121 - val_loss: 0.7708 - val_accuracy: 0.7391 - val_precision_91: 0.8057 - val_recall_91: 0.6568 - val_f1_score: 0.5910\n"
          ]
        },
        {
          "output_type": "execute_result",
          "data": {
            "text/plain": [
              "<keras.callbacks.History at 0x7fe188447040>"
            ]
          },
          "metadata": {},
          "execution_count": 63
        }
      ]
    },
    {
      "cell_type": "code",
      "source": [
        "# Evaluate the model on test data\n",
        "test_loss, test_acc, test_precision, test_recall, test_f1score = best_model.evaluate(X_test, y_test, verbose=0)\n",
        "test_acc_percentage = test_acc * 100\n",
        "test_precision_percentage = test_precision * 100\n",
        "test_recall_percentage = test_recall * 100\n",
        "test_f1score_percentage = test_f1score * 100\n",
        "\n",
        "print(f'Test Loss: {test_loss:.4f}')\n",
        "print(f'Test Accuracy: {test_acc_percentage:.2f}%')\n",
        "print(f'Test Precision: {test_precision_percentage:.2f}%')\n",
        "print(f'Test Recall: {test_recall_percentage:.2f}%')\n",
        "print(f'Test F1 Score: {test_f1score_percentage:.2f}%')\n"
      ],
      "metadata": {
        "colab": {
          "base_uri": "https://localhost:8080/"
        },
        "id": "2-H7vviqxiNT",
        "outputId": "69cdeffd-72c1-4fb9-e4c9-a034be3ac0a1"
      },
      "execution_count": 67,
      "outputs": [
        {
          "output_type": "stream",
          "name": "stdout",
          "text": [
            "Test Loss: 0.6544\n",
            "Test Accuracy: 76.38%\n",
            "Test Precision: 83.94%\n",
            "Test Recall: 68.24%\n",
            "Test F1 Score: 60.04%\n"
          ]
        }
      ]
    },
    {
      "cell_type": "code",
      "source": [
        "import matplotlib.pyplot as plt\n",
        "\n",
        "models = ['CNN', 'RF', 'SVM - Linear', 'SVM - Poly', 'SVM - Sigmoid', 'SVM - RBF']\n",
        "accuracy = [76.38, 68.24, 59.07, 34.44, 42.49, 46.88]\n",
        "precision = [60.04, 60.04, 59.07, 34.44, 42.49, 46.88]\n",
        "recall = [76.38, 80.00, 59.07, 34.44, 42.49, 46.88]\n",
        "f1score = [83.94, 73.00, 59.07, 34.44, 42.49, 46.88]\n",
        "\n",
        "x = range(len(models))\n",
        "\n",
        "plt.figure(figsize=(10, 6))\n",
        "plt.bar(x, accuracy, width=0.2, align='center', label='Accuracy')\n",
        "plt.bar([i + 0.2 for i in x], precision, width=0.2, align='center', label='Precision')\n",
        "plt.bar([i + 0.4 for i in x], recall, width=0.2, align='center', label='Recall')\n",
        "plt.bar([i + 0.6 for i in x], f1score, width=0.2, align='center', label='F1-score')\n",
        "\n",
        "plt.xlabel('Models')\n",
        "plt.ylabel('Percentage')\n",
        "plt.title('Performance Metrics - Scenario 2')\n",
        "plt.xticks(x, models)\n",
        "plt.legend()\n",
        "plt.tight_layout()\n",
        "\n",
        "plt.show()\n"
      ],
      "metadata": {
        "colab": {
          "base_uri": "https://localhost:8080/",
          "height": 607
        },
        "id": "DpTlwdQgsSff",
        "outputId": "52fc8db1-97d4-430e-b7f6-f6dce2908834"
      },
      "execution_count": 68,
      "outputs": [
        {
          "output_type": "display_data",
          "data": {
            "text/plain": [
              "<Figure size 1000x600 with 1 Axes>"
            ],
            "image/png": "[encoded data removed]"
          },
          "metadata": {}
        }
      ]
    }
  ]
}